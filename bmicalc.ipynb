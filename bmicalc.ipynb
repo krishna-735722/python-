{
  "nbformat": 4,
  "nbformat_minor": 0,
  "metadata": {
    "colab": {
      "name": "Untitled6.ipynb",
      "provenance": [],
      "collapsed_sections": [],
      "authorship_tag": "ABX9TyPGUbw51A8xfEzMS285nL2D",
      "include_colab_link": true
    },
    "kernelspec": {
      "name": "python3",
      "display_name": "Python 3"
    },
    "language_info": {
      "name": "python"
    }
  },
  "cells": [
    {
      "cell_type": "markdown",
      "metadata": {
        "id": "view-in-github",
        "colab_type": "text"
      },
      "source": [
        "<a href=\"https://colab.research.google.com/github/krishna-735722/python-/blob/main/bmicalc.ipynb\" target=\"_parent\"><img src=\"https://colab.research.google.com/assets/colab-badge.svg\" alt=\"Open In Colab\"/></a>"
      ]
    },
    {
      "cell_type": "code",
      "source": [
        "\n",
        "#  to calculate bmi of a person \n",
        "#   BMI = ( WEIGHT\\HEIGHT^2)\n",
        "\n",
        "height =float(input(\"enter your height in m : \"))\n",
        "weight = float(input(\"enter your weight in kg : \"))\n",
        "bmi=(float(weight)/(height)**2)\n",
        "format_bmi=\"{:.2f}\".format(bmi)\n",
        "print(format_bmi)"
      ],
      "metadata": {
        "colab": {
          "base_uri": "https://localhost:8080/"
        },
        "id": "IqYa9WPyF31U",
        "outputId": "3be309bd-a33e-4dc2-d6b0-5be0cbd1c6cf"
      },
      "execution_count": 5,
      "outputs": [
        {
          "output_type": "stream",
          "name": "stdout",
          "text": [
            "enter your height in m : 1.5\n",
            "enter your weight in kg : 60\n",
            "26.67\n"
          ]
        }
      ]
    },
    {
      "cell_type": "code",
      "source": [
        "from google.colab import drive\n",
        "drive.mount('/content/drive')"
      ],
      "metadata": {
        "id": "4U9QQp1ZImkV"
      },
      "execution_count": null,
      "outputs": []
    }
  ]
}